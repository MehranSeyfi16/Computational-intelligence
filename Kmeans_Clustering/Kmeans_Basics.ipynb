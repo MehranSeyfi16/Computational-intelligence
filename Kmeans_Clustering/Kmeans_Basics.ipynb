{
 "cells": [
  {
   "cell_type": "markdown",
   "id": "d5a75f58-e60b-4e98-9a65-6bed5af06a44",
   "metadata": {},
   "source": [
    "# Imports"
   ]
  },
  {
   "cell_type": "code",
   "execution_count": 40,
   "id": "66d1d180-d308-4bcd-a2fa-93efecf95062",
   "metadata": {},
   "outputs": [],
   "source": [
    "# Essentials\n",
    "import numpy as np\n",
    "import pandas as pd\n",
    "\n",
    "# Misc\n",
    "from sklearn.model_selection import GridSearchCV\n",
    "from sklearn.model_selection import KFold, cross_val_score\n",
    "from sklearn.metrics import mean_squared_error\n",
    "from sklearn.preprocessing import OneHotEncoder\n",
    "from sklearn.preprocessing import LabelEncoder\n",
    "from sklearn.pipeline import make_pipeline\n",
    "from sklearn.preprocessing import scale\n",
    "from sklearn.preprocessing import StandardScaler\n",
    "from sklearn.preprocessing import RobustScaler\n",
    "from sklearn.decomposition import PCA\n",
    "\n",
    "# sklearn kmeans\n",
    "from sklearn.cluster import KMeans\n",
    "from sklearn.metrics import adjusted_rand_score\n",
    "from sklearn.metrics import rand_score\n",
    "from sklearn.metrics import r2_score\n",
    "from sklearn.metrics import mutual_info_score"
   ]
  },
  {
   "cell_type": "markdown",
   "id": "85b4deec-d002-4722-8fa1-23f6d58de131",
   "metadata": {},
   "source": [
    "# Q0"
   ]
  },
  {
   "cell_type": "code",
   "execution_count": 41,
   "id": "a7d6da1b-2739-442d-9e1b-8591d3330ec2",
   "metadata": {},
   "outputs": [
    {
     "name": "stdout",
     "output_type": "stream",
     "text": [
      "[1 0 2 1 1 0 1 2 1 1 2 0 0 0 0 1 2 1 1 2 0 2 0 2 2 2 2 2 0 0]\n",
      "[0 1 2 0 0 1 0 2 0 0 2 1 1 1 1 0 2 0 0 2 1 0 1 2 2 2 2 2 1 1]\n"
     ]
    }
   ],
   "source": [
    "iris = datasets.load_iris()\n",
    "\n",
    "x = iris.data\n",
    "y = iris.target\n",
    "\n",
    "kmeans = KMeans(n_clusters = 3)\n",
    "x_train , x_test , y_train , y_test = train_test_split(x,y,random_state=42,test_size=0.2)\n",
    "kmeans.fit(x_train)\n",
    "x_pred = kmeans.predict(x_test)\n",
    "\n",
    "print(y_test)\n",
    "print(x_pred)"
   ]
  },
  {
   "cell_type": "code",
   "execution_count": 42,
   "id": "6f918f80-aa84-4483-a166-3555bebd8422",
   "metadata": {},
   "outputs": [
    {
     "data": {
      "text/plain": [
       "0.8981703936425799"
      ]
     },
     "execution_count": 42,
     "metadata": {},
     "output_type": "execute_result"
    }
   ],
   "source": [
    "adjusted_rand_score(y_test, x_pred)"
   ]
  },
  {
   "cell_type": "code",
   "execution_count": 43,
   "id": "cc454a7b-9c32-4f03-b3cb-c01bc0a7ca8d",
   "metadata": {},
   "outputs": [
    {
     "data": {
      "text/plain": [
       "0.9563218390804598"
      ]
     },
     "execution_count": 43,
     "metadata": {},
     "output_type": "execute_result"
    }
   ],
   "source": [
    "rand_score(y_test, x_pred)"
   ]
  },
  {
   "cell_type": "code",
   "execution_count": 44,
   "id": "59bd142b-0d08-4493-8252-87e874682aba",
   "metadata": {},
   "outputs": [
    {
     "data": {
      "text/plain": [
       "0.9869123863067224"
      ]
     },
     "execution_count": 44,
     "metadata": {},
     "output_type": "execute_result"
    }
   ],
   "source": [
    "mutual_info_score(y_test, x_pred)"
   ]
  },
  {
   "cell_type": "markdown",
   "id": "79373817-c3c0-41c5-a643-2dc15875b7e9",
   "metadata": {},
   "source": [
    "# Q1"
   ]
  },
  {
   "cell_type": "code",
   "execution_count": 45,
   "id": "49d44d19-eac0-49d6-850a-68d5c402acef",
   "metadata": {},
   "outputs": [],
   "source": [
    "iris = pd.DataFrame(x, columns=['sepal_length','sepal_width','petal_length','petal_width'])"
   ]
  },
  {
   "cell_type": "code",
   "execution_count": 46,
   "id": "ba0fe2fa-baee-4c70-8c64-dd8e2fbff2f1",
   "metadata": {},
   "outputs": [
    {
     "data": {
      "image/png": "[encoded data removed]",
      "text/plain": [
       "<Figure size 432x288 with 1 Axes>"
      ]
     },
     "metadata": {
      "needs_background": "light"
     },
     "output_type": "display_data"
    }
   ],
   "source": [
    "ssd=[]\n",
    "for k in range(1,11):\n",
    "  kmean = KMeans(n_clusters=k).fit(iris)\n",
    "  ssd.append([k,kmean.inertia_])\n",
    "\n",
    "plt.plot(pd.DataFrame(ssd)[0],pd.DataFrame(ssd)[1])\n",
    "plt.title('The elbow method')\n",
    "plt.xlabel('Number of clusters')\n",
    "plt.ylabel('WCSS') # Within cluster sum of squares\n",
    "plt.show()"
   ]
  },
  {
   "cell_type": "markdown",
   "id": "3665f41a-a332-4e3d-b0dd-f5e9a7e32712",
   "metadata": {},
   "source": [
    "#### K=3 is the best choise "
   ]
  },
  {
   "cell_type": "markdown",
   "id": "49eeabda-3a20-4bf8-bc45-f5d01ef01d5c",
   "metadata": {},
   "source": [
    "# Q2"
   ]
  },
  {
   "cell_type": "markdown",
   "id": "414690ec-9aea-4557-848c-3c5250d2f7da",
   "metadata": {},
   "source": [
    "#### We can use evaluation set data that is a part of train set data. So this will act like test data when we do not have a test set."
   ]
  },
  {
   "cell_type": "markdown",
   "id": "5744aa05-2b69-4617-a23f-258a71a6c36a",
   "metadata": {},
   "source": [
    "#### The evaluation metrics which do not require any ground truth labels to calculate the efficiency of the clustering algorithm could be used for the computation of the performance evaluation. There are three commonly used evaluation metrics: Silhouette score, Calinski Harabaz index, Davies-Bouldin Index."
   ]
  },
  {
   "cell_type": "code",
   "execution_count": null,
   "id": "22e09e72-f3ad-43a7-97ce-10fbfe2b9f1a",
   "metadata": {},
   "outputs": [],
   "source": []
  }
 ],
 "metadata": {
  "kernelspec": {
   "display_name": "Python 3 (ipykernel)",
   "language": "python",
   "name": "python3"
  },
  "language_info": {
   "codemirror_mode": {
    "name": "ipython",
    "version": 3
   },
   "file_extension": ".py",
   "mimetype": "text/x-python",
   "name": "python",
   "nbconvert_exporter": "python",
   "pygments_lexer": "ipython3",
   "version": "3.8.0"
  }
 },
 "nbformat": 4,
 "nbformat_minor": 5
}
