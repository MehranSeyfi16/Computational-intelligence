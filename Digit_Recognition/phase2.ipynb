{
 "cells": [
  {
   "cell_type": "markdown",
   "id": "be9ecb9e-07c3-4605-8dfb-281580f6f66f",
   "metadata": {},
   "source": [
    "## Import Essentials"
   ]
  },
  {
   "cell_type": "code",
   "execution_count": 90,
   "id": "d1df7994-0970-49a3-8f3b-7158dab255ac",
   "metadata": {},
   "outputs": [
    {
     "data": {
      "application/javascript": [
       "\n",
       "        if (window._pyforest_update_imports_cell) { window._pyforest_update_imports_cell('import sys'); }\n",
       "    "
      ],
      "text/plain": [
       "<IPython.core.display.Javascript object>"
      ]
     },
     "metadata": {},
     "output_type": "display_data"
    }
   ],
   "source": [
    "# Essentials\n",
    "import numpy as np\n",
    "import pandas as pd\n",
    "import datetime\n",
    "from sklearn import datasets\n",
    "from typing import Tuple\n",
    "from sklearn.manifold import TSNE\n",
    "from numpy import reshape\n",
    "import seaborn as sns\n",
    "\n",
    "# Plots\n",
    "import seaborn as sns\n",
    "import matplotlib.pyplot as plt\n",
    "import matplotlib.cm as cm\n",
    "%matplotlib inline\n",
    "\n",
    "# Stats\n",
    "from scipy.stats import skew, norm\n",
    "from scipy.special import boxcox1p\n",
    "from scipy.stats import boxcox_normmax\n",
    "\n",
    "# Misc\n",
    "from sklearn.decomposition import PCA\n",
    "\n",
    "# Ignore useless warnings\n",
    "import warnings\n",
    "warnings.filterwarnings(action=\"ignore\")\n",
    "pd.options.display.max_seq_items = 8000\n",
    "pd.options.display.max_rows = 8000\n",
    "\n",
    "if not sys.warnoptions:\n",
    "    warnings.simplefilter(\"ignore\")\n",
    "warnings.filterwarnings('ignore')\n",
    "    \n",
    "import os\n",
    "from sklearn.cluster import KMeans\n",
    "from sklearn.metrics.cluster import contingency_matrix\n",
    "from sklearn.metrics.cluster import silhouette_score\n",
    "from sklearn.metrics import silhouette_samples\n",
    "from sklearn.metrics import accuracy_score\n",
    "\n",
    "# data visualization\n",
    "from yellowbrick.cluster import KElbowVisualizer # cluster visualizer\n",
    "\n",
    "# sklearn kmeans\n",
    "from sklearn.cluster import KMeans\n",
    "from sklearn.metrics.cluster import contingency_matrix\n",
    "from sklearn.metrics.cluster import silhouette_score\n",
    "\n",
    "#classifier\n",
    "from sklearn.ensemble import RandomForestClassifier\n",
    "\n",
    "# pyclustering kmeans\n",
    "from pyclustering.cluster.kmeans import kmeans\n",
    "from pyclustering.utils.metric import distance_metric\n",
    "from pyclustering.cluster.center_initializer import random_center_initializer\n",
    "from pyclustering.cluster.encoder import type_encoding\n",
    "from pyclustering.cluster.encoder import cluster_encoder"
   ]
  },
  {
   "cell_type": "markdown",
   "id": "6e90f89f-a88b-4d24-aa1c-d7d4b6405a9b",
   "metadata": {},
   "source": [
    "## Loading Datasets"
   ]
  },
  {
   "cell_type": "code",
   "execution_count": 4,
   "id": "6bcfa37a-e2cd-4eb9-a6ce-9bb1d5808748",
   "metadata": {},
   "outputs": [
    {
     "name": "stdout",
     "output_type": "stream",
     "text": [
      "(25000, 1024)\n",
      "(array([0, 1, 2, 3, 4], dtype=int64), array([5000, 5000, 5000, 5000, 5000], dtype=int64))\n",
      "(25000, 1024)\n",
      "(array([0, 1, 2, 3, 4], dtype=int64), array([5000, 5000, 5000, 5000, 5000], dtype=int64))\n"
     ]
    }
   ],
   "source": [
    "import numpy as np\n",
    "from typing import Tuple\n",
    "\n",
    "def load_data(filename: str) -> Tuple[np.ndarray, np.ndarray, np.ndarray]:\n",
    "    data = np.load(f'{filename}')\n",
    "    return data['features'], data['domains'], data['digits']\n",
    "\n",
    "features_train, domains_train, digits_train = \\\n",
    "    load_data('train_data.npz')\n",
    "\n",
    "print(features_train.shape)\n",
    "print(np.unique(domains_train, return_counts=True))\n",
    "\n",
    "features_test, domains_test, digits_test = \\\n",
    "    load_data('test_data.npz')\n",
    "print(features_test.shape)\n",
    "print(np.unique(domains_test, return_counts=True))\n",
    "\n"
   ]
  },
  {
   "cell_type": "markdown",
   "id": "ffee8d13-dccf-4faa-b3c8-5387551cdd14",
   "metadata": {},
   "source": [
    "# Part1"
   ]
  },
  {
   "cell_type": "markdown",
   "id": "68dee6a6-e90a-43a7-94bd-c4b620dbbc22",
   "metadata": {},
   "source": [
    "### Instantiate the default random forest classifier "
   ]
  },
  {
   "cell_type": "code",
   "execution_count": 6,
   "id": "7bb3b001-07cf-4674-aaa7-db9e9a456b07",
   "metadata": {},
   "outputs": [],
   "source": [
    "rfc = RandomForestClassifier(random_state=0)\n",
    "rfc.fit(features_train, digits_train)\n",
    "y_pred = rfc.predict(features_test)"
   ]
  },
  {
   "cell_type": "code",
   "execution_count": 7,
   "id": "2b131ad7-ae7c-48d5-9fad-736c6ff0a196",
   "metadata": {},
   "outputs": [
    {
     "name": "stdout",
     "output_type": "stream",
     "text": [
      "0.86208\n"
     ]
    }
   ],
   "source": [
    "print(accuracy_score(digits_test, y_pred))"
   ]
  },
  {
   "cell_type": "markdown",
   "id": "2ee19d97-1edb-4225-88cd-35db9ab8fbce",
   "metadata": {},
   "source": [
    "### Now we try to check the effect and application of different parameters step by step and try to reach a logical conclusion"
   ]
  },
  {
   "cell_type": "markdown",
   "id": "83b3ca2f-d1cb-4e6a-b6fe-0d06d77e8d68",
   "metadata": {},
   "source": [
    "### n_estimators: This parameter controls the number of trees in the forest. Increasing this parameter may lead to better performance, but it could also increase the risk of overfitting. Let's try increasing it to 100 and see how it affects the accuracy."
   ]
  },
  {
   "cell_type": "code",
   "execution_count": 71,
   "id": "d9764594-8caf-44af-bb5e-61b330de5264",
   "metadata": {},
   "outputs": [
    {
     "name": "stdout",
     "output_type": "stream",
     "text": [
      "Accuracy with n_estimators=100: 0.86208\n"
     ]
    }
   ],
   "source": [
    "rfc = RandomForestClassifier(random_state=0, n_estimators=100)\n",
    "rfc.fit(features_train, digits_train)\n",
    "y_pred = rfc.predict(features_test)\n",
    "print(\"Accuracy with n_estimators=100:\", accuracy_score(digits_test, y_pred))"
   ]
  },
  {
   "cell_type": "markdown",
   "id": "94d6030c-71b5-44a9-88fc-20bcdc9314ce",
   "metadata": {},
   "source": [
    "### adjusting n_estimators=100 did not changed the accuracy"
   ]
  },
  {
   "cell_type": "markdown",
   "id": "6f43969c-e7de-4ffc-b9cc-f59020ddd3db",
   "metadata": {},
   "source": [
    "### max_depth - This parameter controls the maximum depth of each decision tree in the forest. Increasing this parameter can increase the complexity of the model, but it can also increase the risk of overfitting. Let's try setting it to 10 and see how it affects the accuracy."
   ]
  },
  {
   "cell_type": "code",
   "execution_count": 72,
   "id": "93eb0042-60e7-40d2-abe7-387ed492eaf4",
   "metadata": {},
   "outputs": [
    {
     "name": "stdout",
     "output_type": "stream",
     "text": [
      "Accuracy with n_estimators=100 and max_depth=10: 0.82868\n"
     ]
    }
   ],
   "source": [
    "rfc = RandomForestClassifier(random_state=0, n_estimators=100, max_depth=10)\n",
    "rfc.fit(features_train, digits_train)\n",
    "y_pred = rfc.predict(features_test)\n",
    "print(\"Accuracy with n_estimators=100 and max_depth=10:\", accuracy_score(digits_test, y_pred))"
   ]
  },
  {
   "cell_type": "markdown",
   "id": "bb545e24-7912-4b28-9b25-206673d10af5",
   "metadata": {},
   "source": [
    "### Adjusting max_depth=10 decreases the accuracy score \n"
   ]
  },
  {
   "cell_type": "markdown",
   "id": "be333c1c-7f0c-4859-8ffb-0bc92cac781a",
   "metadata": {},
   "source": [
    "### min_samples_split: This parameter sets the minimum number of samples required to split an internal node. A higher value can help to prevent overfitting by creating simpler trees. Let's try setting it to 5 and see how it affects the accuracy."
   ]
  },
  {
   "cell_type": "code",
   "execution_count": null,
   "id": "8c6b4699-90a7-4a27-8670-81ad1a2edc9d",
   "metadata": {},
   "outputs": [
    {
     "name": "stdout",
     "output_type": "stream",
     "text": [
      "Accuracy with n_estimators=100, max_depth=10, and min_samples_split=5: 0.82996\n"
     ]
    }
   ],
   "source": [
    "# Adjusting min_samples_split\n",
    "rfc = RandomForestClassifier(random_state=0, n_estimators=100, max_depth=10, min_samples_split=5)\n",
    "rfc.fit(features_train, digits_train)\n",
    "y_pred = rfc.predict(features_test)\n",
    "print(\"Accuracy with n_estimators=100, max_depth=10, and min_samples_split=5:\", accuracy_score(digits_test, y_pred))"
   ]
  },
  {
   "cell_type": "markdown",
   "id": "f581b98f-658a-467d-a35e-5f4c960cb92a",
   "metadata": {},
   "source": [
    "### A little improvment by adding this parameter"
   ]
  },
  {
   "cell_type": "markdown",
   "id": "b826d9fe-05c0-4141-b102-7c670b71e5f2",
   "metadata": {},
   "source": [
    "### max_features: This parameter controls the number of features to consider when looking for the best split. A lower value can help to prevent overfitting by reducing the variance between trees. Let's try setting it to \"sqrt\" which means that it will use the square root of the total number of features."
   ]
  },
  {
   "cell_type": "code",
   "execution_count": 74,
   "id": "718bc8dd-ef7e-4337-bb47-b72d0f558335",
   "metadata": {},
   "outputs": [
    {
     "name": "stdout",
     "output_type": "stream",
     "text": [
      "Accuracy with n_estimators=100, max_depth=10, min_samples_split=5, and max_features=sqrt: 0.82996\n"
     ]
    }
   ],
   "source": [
    "# Adjusting max_features\n",
    "rfc = RandomForestClassifier(random_state=0, n_estimators=100, max_depth=10, min_samples_split=5, max_features=\"sqrt\")\n",
    "rfc.fit(features_train, digits_train)\n",
    "y_pred = rfc.predict(features_test)\n",
    "print(\"Accuracy with n_estimators=100, max_depth=10, min_samples_split=5, and max_features=sqrt:\", accuracy_score(digits_test, y_pred))"
   ]
  },
  {
   "cell_type": "markdown",
   "id": "3a110c00-2c22-4356-84a0-c8695bbfb79c",
   "metadata": {},
   "source": [
    "### No change in the accuracy score"
   ]
  },
  {
   "cell_type": "markdown",
   "id": "f1b5bb62-ad82-4ddc-a0c7-97988da3e486",
   "metadata": {},
   "source": [
    "### min_samples_leaf: This parameter sets the minimum number of samples required to be at a leaf node. Increasing this parameter can help to prevent overfitting by creating simpler trees. Let's try setting it to 3."
   ]
  },
  {
   "cell_type": "code",
   "execution_count": 75,
   "id": "32622611-748e-4db5-8e05-7acd291072a6",
   "metadata": {},
   "outputs": [
    {
     "name": "stdout",
     "output_type": "stream",
     "text": [
      "Accuracy with n_estimators=100, max_depth=10, min_samples_split=5, max_features=sqrt, and min_samples_leaf=3: 0.8298\n"
     ]
    }
   ],
   "source": [
    "rfc = RandomForestClassifier(random_state=0, n_estimators=100, max_depth=10, min_samples_split=5, max_features=\"sqrt\", min_samples_leaf=3)\n",
    "rfc.fit(features_train, digits_train)\n",
    "y_pred = rfc.predict(features_test)\n",
    "print(\"Accuracy with n_estimators=100, max_depth=10, min_samples_split=5, max_features=sqrt, and min_samples_leaf=3:\", accuracy_score(digits_test, y_pred))"
   ]
  },
  {
   "cell_type": "markdown",
   "id": "3c18359f-7afc-4b90-a610-36647215010a",
   "metadata": {},
   "source": [
    "### Almost unchanged"
   ]
  },
  {
   "cell_type": "markdown",
   "id": "da5e2ed5-8a84-4909-8546-a269ae33a44c",
   "metadata": {},
   "source": [
    "### criterion: This parameter determines the function used to measure the quality of a split. The \"gini\" criterion is the default and measures the impurity of the branches. Another option is \"entropy,\" which measures the amount of information gained from each split. Let's try using \"entropy\"."
   ]
  },
  {
   "cell_type": "code",
   "execution_count": 76,
   "id": "170a434b-b3f7-432b-9287-40c3bc22e790",
   "metadata": {},
   "outputs": [
    {
     "name": "stdout",
     "output_type": "stream",
     "text": [
      "Accuracy with n_estimators=100, max_depth=10, min_samples_split=5, max_features=sqrt, min_samples_leaf=3, and criterion=entropy: 0.84208\n"
     ]
    }
   ],
   "source": [
    "rfc = RandomForestClassifier(random_state=0, n_estimators=100, max_depth=10, min_samples_split=5, max_features=\"sqrt\", min_samples_leaf=3, criterion=\"entropy\")\n",
    "rfc.fit(features_train, digits_train)\n",
    "y_pred = rfc.predict(features_test)\n",
    "print(\"Accuracy with n_estimators=100, max_depth=10, min_samples_split=5, max_features=sqrt, min_samples_leaf=3, and criterion=entropy:\", accuracy_score(digits_test, y_pred))"
   ]
  },
  {
   "cell_type": "markdown",
   "id": "a7ad3a67-d55c-4b20-9611-8ffcb219607c",
   "metadata": {},
   "source": [
    "### Two percent improvement in in accuracy score"
   ]
  },
  {
   "cell_type": "markdown",
   "id": "9d8ba461-f24b-4aca-975e-d9c41355fde0",
   "metadata": {},
   "source": [
    "### bootstrap: This parameter controls whether or not bootstrapping should be used when building trees. Bootstrapping involves sampling the training data with replacement, which can help to reduce variance in the model. Let's try turning it off."
   ]
  },
  {
   "cell_type": "code",
   "execution_count": 77,
   "id": "a310de63-2247-445e-b298-f5687d65a8e8",
   "metadata": {},
   "outputs": [
    {
     "name": "stdout",
     "output_type": "stream",
     "text": [
      "Accuracy with n_estimators=100, max_depth=10, min_samples_split=5, max_features=sqrt, min_samples_leaf=3, criterion=entropy, and bootstrap=False: 0.84772\n"
     ]
    }
   ],
   "source": [
    "rfc = RandomForestClassifier(random_state=0, n_estimators=100, max_depth=10, min_samples_split=5, max_features=\"sqrt\", min_samples_leaf=3, criterion=\"entropy\", bootstrap=False)\n",
    "rfc.fit(features_train, digits_train)\n",
    "y_pred = rfc.predict(features_test)\n",
    "print(\"Accuracy with n_estimators=100, max_depth=10, min_samples_split=5, max_features=sqrt, min_samples_leaf=3, criterion=entropy, and bootstrap=False:\", accuracy_score(digits_test, y_pred))"
   ]
  },
  {
   "cell_type": "markdown",
   "id": "329a30df-16b1-4c4a-b2f0-da9a5d71a59b",
   "metadata": {},
   "source": [
    "### it is getting better!"
   ]
  },
  {
   "cell_type": "markdown",
   "id": "47d359eb-ef4e-4b39-b863-fd0a7233f180",
   "metadata": {},
   "source": [
    "### class_weight: This parameter can be used to weight the contribution of different classes in the model. Classes that are more important can be given a higher weight, which can help to improve performance. Let's try setting the class_weight parameter to \"balanced.\""
   ]
  },
  {
   "cell_type": "markdown",
   "id": "b847d0d4-71e4-4b1b-98dc-1b7cc4a039df",
   "metadata": {},
   "source": [
    "### and also Let's try increasing the number of estimators to 200."
   ]
  },
  {
   "cell_type": "code",
   "execution_count": 78,
   "id": "9270d1a1-8112-4455-83b6-9d03cd74563a",
   "metadata": {},
   "outputs": [
    {
     "name": "stdout",
     "output_type": "stream",
     "text": [
      "Accuracy with n_estimators=200, max_depth=10, min_samples_split=5, max_features=sqrt, min_samples_leaf=3, criterion=entropy, bootstrap=False, and class_weight=balanced: 0.85796\n"
     ]
    }
   ],
   "source": [
    "rfc = RandomForestClassifier(random_state=0, n_estimators=200, max_depth=10, min_samples_split=5, max_features=\"sqrt\", min_samples_leaf=3, criterion=\"entropy\", bootstrap=False, class_weight=\"balanced\")\n",
    "rfc.fit(features_train, digits_train)\n",
    "y_pred = rfc.predict(features_test)\n",
    "print(\"Accuracy with n_estimators=200, max_depth=10, min_samples_split=5, max_features=sqrt, min_samples_leaf=3, criterion=entropy, bootstrap=False, and class_weight=balanced:\", accuracy_score(digits_test, y_pred))"
   ]
  },
  {
   "cell_type": "markdown",
   "id": "4bb830c5-dd65-449a-9e31-15ca909df93c",
   "metadata": {},
   "source": [
    "### 1% improvment in accuracy score!"
   ]
  },
  {
   "cell_type": "markdown",
   "id": "657ee051-81fe-4cce-b135-c73d6e7863d2",
   "metadata": {},
   "source": [
    "### Let's try decreasing the number of estimators to 150."
   ]
  },
  {
   "cell_type": "code",
   "execution_count": null,
   "id": "921c4b8d-5947-417b-94f0-76dc388ef0ee",
   "metadata": {},
   "outputs": [],
   "source": [
    "rfc = RandomForestClassifier(random_state=0, n_estimators=150, min_samples_split=2, max_features=\"auto\", min_samples_leaf=3, criterion=\"gini\", bootstrap=True, class_weight=\"balanced\")\n",
    "rfc.fit(features_train, digits_train)\n",
    "y_pred = rfc.predict(features_test)\n",
    "print(\"Accuracy with n_estimators=150, max_depth=20, min_samples_split=2, max_features=auto, min_samples_leaf=3, criterion=gini, bootstrap=True, and class_weight=balanced:\", accuracy_score(digits_test, y_pred))"
   ]
  },
  {
   "cell_type": "markdown",
   "id": "ab16174d-e0d7-4cc3-af2b-67e1063d830a",
   "metadata": {},
   "source": [
    "### The score decreases! so n_estimator=200 seems to be a good parameter!"
   ]
  },
  {
   "cell_type": "markdown",
   "id": "05d1d024-0e7b-4834-9f16-d1717b6edc7d",
   "metadata": {},
   "source": [
    "### Setting up the random state"
   ]
  },
  {
   "cell_type": "code",
   "execution_count": null,
   "id": "5342858b-bfbc-477b-a234-22895e13e3e8",
   "metadata": {},
   "outputs": [],
   "source": [
    "rfc = RandomForestClassifier(random_state=50, n_estimators=200, min_samples_split=10, max_features=\"sqrt\", min_samples_leaf=3, criterion=\"entropy\", bootstrap=False, class_weight=\"balanced\")\n",
    "rfc.fit(features_train, digits_train)\n",
    "y_pred = rfc.predict(features_test)\n",
    "print(\"Accuracy with random_state=50, n_estimators=200, max_depth=10, min_samples_split=10, max_features=sqrt, min_samples_leaf=3, criterion=entropy, bootstrap=False, and class_weight=balanced:\", accuracy_score(digits_test, y_pred))"
   ]
  },
  {
   "cell_type": "markdown",
   "id": "0ae1fc6a-1bf3-47d8-a5ce-11ac27c218ea",
   "metadata": {},
   "source": [
    "### Good! it seems that it is good to set random state and not leave it equal to zero!"
   ]
  },
  {
   "cell_type": "markdown",
   "id": "a5831fb7-f9d1-4fba-935e-67e57772b171",
   "metadata": {},
   "source": [
    "### These are RandomizedSearchCV and gridsearch but i could not get the answers because of the run time!"
   ]
  },
  {
   "cell_type": "code",
   "execution_count": 69,
   "id": "8595c3fd-fc1f-413c-be2d-db11f90b5d50",
   "metadata": {},
   "outputs": [],
   "source": [
    "# from sklearn.model_selection import RandomizedSearchCV\n",
    "# from scipy.stats import randint\n",
    "\n",
    "# # Define the hyperparameter search space\n",
    "# param_dist = {\n",
    "#     'n_estimators': randint(100, 500),\n",
    "#     'max_depth': [5, 10, 20, None],\n",
    "#     'min_samples_leaf': randint(1, 4),\n",
    "#     'max_features': ['sqrt', 'log2', None]\n",
    "# }\n",
    "\n",
    "# # Instantiate the random forest classifier\n",
    "# rfc = RandomForestClassifier(random_state=0)\n",
    "\n",
    "# # Instantiate the randomized search object\n",
    "# rand_search = RandomizedSearchCV(rfc, param_distributions=param_dist, n_iter=20, cv=5, random_state=0)\n",
    "\n",
    "# # Fit the randomized search object on the training data\n",
    "# rand_search.fit(features_train, digits_train)\n",
    "\n",
    "# # Print the best hyperparameters and corresponding accuracy score\n",
    "# print(\"Best parameters found: \", rand_search.best_params_)\n",
    "# print(\"Best accuracy found: \", rand_search.best_score_)\n"
   ]
  },
  {
   "cell_type": "code",
   "execution_count": 70,
   "id": "766952aa-a263-4f8a-8d72-1596cd8777c0",
   "metadata": {},
   "outputs": [],
   "source": [
    "# # Set the best hyperparameters found from randomized search\n",
    "# n_estimators = rand_search.best_params_['n_estimators']\n",
    "# max_depth = rand_search.best_params_['max_depth']\n",
    "# min_samples_leaf = rand_search.best_params_['min_samples_leaf']\n",
    "# max_features = rand_search.best_params_['max_features']\n",
    "\n",
    "# # Instantiate the random forest classifier with the best hyperparameters\n",
    "# rfc_best = RandomForestClassifier(n_estimators=n_estimators, max_depth=max_depth, \n",
    "#                                    min_samples_leaf=min_samples_leaf, max_features=max_features,\n",
    "#                                    random_state=0)\n",
    "\n",
    "# # Fit the model on the training data\n",
    "# rfc_best.fit(features_train, digits_train)\n"
   ]
  },
  {
   "cell_type": "markdown",
   "id": "76be0013-6b7a-4e9a-a990-be5c6edb8cb4",
   "metadata": {},
   "source": [
    "### let's merge all we found from the previous models, and train the final model"
   ]
  },
  {
   "cell_type": "code",
   "execution_count": null,
   "id": "cd82c4de-d717-480f-b86f-6dc34e9aa324",
   "metadata": {},
   "outputs": [],
   "source": [
    "model = RandomForestClassifier(n_estimators=200, criterion='gini', min_samples_split=5, min_samples_leaf=2, max_features='auto', bootstrap=True, n_jobs=-1, random_state=42)"
   ]
  },
  {
   "cell_type": "code",
   "execution_count": 17,
   "id": "c859343c-c1db-4b4d-9025-e603348835d4",
   "metadata": {},
   "outputs": [
    {
     "data": {
      "text/plain": [
       "0.87224"
      ]
     },
     "execution_count": 17,
     "metadata": {},
     "output_type": "execute_result"
    }
   ],
   "source": [
    "model.fit(features_train,digits_train)\n",
    "y_pred = model.predict(features_test)\n",
    "accuracy_score(digits_test, y_pred)"
   ]
  },
  {
   "cell_type": "markdown",
   "id": "31678b81-3e72-45ae-99f2-f0423b1bd04a",
   "metadata": {},
   "source": [
    "### Good accuracy in predicting digits!"
   ]
  },
  {
   "cell_type": "markdown",
   "id": "0960e154-efab-4bb0-a3a3-5af7c8547210",
   "metadata": {},
   "source": [
    "### According to the different parameters that we tested in different modes and checked their different results, we find that in order to avoid overfitting and get the best score, we should not set some parameters too much and others too little. For example, if we increase n_estimator, it will probably give us a better score, but it also increases the probability of overfit. Also, adjusting some parameters such as max_depth = 10 decreased the accuracy of our model at first, and after removing this parameter and applying the default value We saw that the score had a good improvement"
   ]
  },
  {
   "cell_type": "markdown",
   "id": "0d2ab0fc-7b4f-4f4a-a38f-3934fa3236f3",
   "metadata": {
    "jp-MarkdownHeadingCollapsed": true,
    "tags": []
   },
   "source": [
    "### Confusion Matrix"
   ]
  },
  {
   "cell_type": "markdown",
   "id": "34c5d822-53c9-4516-ad25-f610f5bd6ba8",
   "metadata": {},
   "source": [
    "### In multi-class classification, a confusion matrix is a table that is used to evaluate the performance of a machine learning model that predicts multiple classes or labels. The matrix is an extension of the binary confusion matrix and consists of rows and columns representing the predicted and actual class labels, respectively. Each cell in the matrix represents the number of instances that were classified as belonging to a particular class. In a multi-class problem with \"k\" classes, the confusion matrix will be a k x k table.The diagonal elements of the confusion matrix represent the number of correctly classified instances for each class, while the off-diagonal elements represent the misclassifications. Performance metrics such as precision, recall, accuracy and F1-score can be calculated using the values in the confusion matrix."
   ]
  },
  {
   "cell_type": "code",
   "execution_count": 122,
   "id": "11a34905-00c7-4160-9a2b-ac0fdda5cdf8",
   "metadata": {},
   "outputs": [],
   "source": [
    "from sklearn.metrics import confusion_matrix\n",
    "\n",
    "def plot_cm(y_true, y_pred, figsize=(10,10)):\n",
    "    cm = confusion_matrix(y_true, y_pred, labels=np.unique(y_true))\n",
    "    cm_sum = np.sum(cm, axis=1, keepdims=True)\n",
    "    cm_perc = cm / cm_sum.astype(float) * 100\n",
    "    annot = np.empty_like(cm).astype(str)\n",
    "    nrows, ncols = cm.shape\n",
    "    for i in range(nrows):\n",
    "        for j in range(ncols):\n",
    "            c = cm[i, j]\n",
    "            p = cm_perc[i, j]\n",
    "            if i == j:\n",
    "                s = cm_sum[i]\n",
    "                annot[i, j] = '%.1f%%\\n%d/%d' % (p, c, s)\n",
    "            elif c == 0:\n",
    "                annot[i, j] = ''\n",
    "            else:\n",
    "                annot[i, j] = '%.1f%%\\n%d' % (p, c)\n",
    "    cm = pd.DataFrame(cm, index=np.unique(y_true), columns=np.unique(y_true))\n",
    "    cm.index.name = 'Actual'\n",
    "    cm.columns.name = 'Predicted'\n",
    "    fig, ax = plt.subplots(figsize=figsize)\n",
    "    sns.heatmap(cm, cmap= \"YlGnBu\", annot=annot, fmt='', ax=ax)"
   ]
  },
  {
   "cell_type": "code",
   "execution_count": 119,
   "id": "743f6294-b09a-4991-9309-ddd112dc5486",
   "metadata": {},
   "outputs": [
    {
     "data": {
      "image/png": "[encoded data removed]",
      "text/plain": [
       "<Figure size 720x720 with 2 Axes>"
      ]
     },
     "metadata": {
      "needs_background": "light"
     },
     "output_type": "display_data"
    }
   ],
   "source": [
    "plot_cm(digits_test, y_pred)"
   ]
  },
  {
   "cell_type": "code",
   "execution_count": 115,
   "id": "cb5ba3c0-608e-4f12-b541-4fb59ad50b3d",
   "metadata": {},
   "outputs": [
    {
     "data": {
      "text/plain": [
       "array([[2286,  121,   69,   19,   26,   26,   30,   18,   54,    6],\n",
       "       [   3, 3020,   75,   18,   70,   15,    7,   93,   34,    6],\n",
       "       [   4,   63, 2487,   31,   41,   18,    7,   40,   20,    8],\n",
       "       [   9,   67,   87, 1960,   29,  200,   13,   16,   80,   17],\n",
       "       [   8,  108,   31,    8, 2106,   11,   17,   11,   11,   51],\n",
       "       [   6,   22,   31,   47,   29, 2114,   36,   13,   31,   13],\n",
       "       [  29,   60,   29,   15,   52,  233, 1815,    9,   63,    5],\n",
       "       [   2,  105,   80,   13,   17,   17,    6, 2081,   17,   35],\n",
       "       [  11,   76,   69,   75,   44,  121,   47,   12, 1679,   28],\n",
       "       [  33,   38,   77,   54,  132,   66,    4,   51,   51, 1752]],\n",
       "      dtype=int64)"
      ]
     },
     "execution_count": 115,
     "metadata": {},
     "output_type": "execute_result"
    }
   ],
   "source": [
    "confusion_matrix(digits_test, y_pred)"
   ]
  },
  {
   "cell_type": "markdown",
   "id": "4d3ec97a-62ce-4c45-9c71-dd3d292b7a6b",
   "metadata": {},
   "source": [
    "### These are RandomizedSearchCV and gridsearch but i could not get the answers because of the run time!"
   ]
  },
  {
   "cell_type": "code",
   "execution_count": null,
   "id": "f1603871-2b4c-49b6-8878-986b65226783",
   "metadata": {},
   "outputs": [],
   "source": [
    "# from sklearn.model_selection import RandomizedSearchCV\n",
    "# from scipy.stats import randint\n",
    "\n",
    "# # Define the hyperparameter search space\n",
    "# param_dist = {\n",
    "#     'n_estimators': randint(100, 500),\n",
    "#     'max_depth': [5, 10, 20, None],\n",
    "#     'min_samples_leaf': randint(1, 4),\n",
    "#     'max_features': ['sqrt', 'log2', None]\n",
    "# }\n",
    "\n",
    "# # Instantiate the random forest classifier\n",
    "# rfc = RandomForestClassifier(random_state=0)\n",
    "\n",
    "# # Instantiate the randomized search object\n",
    "# rand_search = RandomizedSearchCV(rfc, param_distributions=param_dist, n_iter=20, cv=5, random_state=0)\n",
    "\n",
    "# # Fit the randomized search object on the training data\n",
    "# rand_search.fit(features_train,digits_train)\n",
    "\n",
    "# # Print the best hyperparameters and corresponding accuracy score\n",
    "# print(\"Best parameters found: \", rand_search.best_params_)\n",
    "# print(\"Best accuracy found: \", rand_search.best_score_)\n"
   ]
  },
  {
   "cell_type": "code",
   "execution_count": null,
   "id": "15b9aefe-8330-4b97-9794-03f33d25193e",
   "metadata": {},
   "outputs": [],
   "source": [
    "\n",
    "\n",
    "# from sklearn.model_selection import RandomizedSearchCV\n",
    "\n",
    "# # Number of trees in random forest\n",
    "# n_estimators = [int(x) for x in range(200,2000,200)]\n",
    "# # Number of features to consider at every split\n",
    "# max_features = ['auto', 'sqrt']\n",
    "# # Maximum number of levels in tree\n",
    "# max_depth = [int(x) for x in np.linspace(10, 110, num = 11)]\n",
    "# max_depth.append(None)\n",
    "# # Minimum number of samples required to split a node\n",
    "# min_samples_split = [2, 5, 10]\n",
    "# # Minimum number of samples required at each leaf node\n",
    "# min_samples_leaf = [1, 2, 4]\n",
    "# # Method of selecting samples for training each tree\n",
    "# bootstrap = [True, False]\n",
    "# # Create the random grid\n",
    "# random_grid = {'n_estimators': n_estimators,\n",
    "#                'max_features': max_features,\n",
    "#                'max_depth': max_depth,\n",
    "#                'min_samples_split': min_samples_split,\n",
    "#                'min_samples_leaf': min_samples_leaf,\n",
    "#                'bootstrap': bootstrap}\n",
    "# print(random_grid)\n",
    "\n"
   ]
  },
  {
   "cell_type": "code",
   "execution_count": null,
   "id": "7007f1a6-9a29-45c2-ad33-bc44988e281f",
   "metadata": {},
   "outputs": [],
   "source": [
    "# # Use the random grid to search for best hyperparameters\n",
    "# # First create the base model to tune\n",
    "# rf = RandomForestClassifier()\n",
    "# # Random search of parameters, using 3 fold cross validation, \n",
    "# # search across 100 different combinations, and use all available cores\n",
    "# rf_random = RandomizedSearchCV(estimator = rf, param_distributions = random_grid, n_iter = 100, cv = 3, verbose=2, random_state=42, n_jobs = -1)\n",
    "# # Fit the random search model\n",
    "# rf_random.fit(features_train,digits_train)"
   ]
  },
  {
   "cell_type": "markdown",
   "id": "315ecc12-5d85-4a10-96e1-c57016b91f9b",
   "metadata": {},
   "source": [
    "# Part2"
   ]
  },
  {
   "cell_type": "markdown",
   "id": "dcdffb47-5d83-4604-ad12-d4d8ca517a2e",
   "metadata": {},
   "source": [
    "### Training a model on 'domains' based on the parameters we have achieved in previous part"
   ]
  },
  {
   "cell_type": "code",
   "execution_count": 15,
   "id": "48f1f792-e7fe-420f-9421-1f93597bd024",
   "metadata": {},
   "outputs": [],
   "source": [
    "rfc = RandomForestClassifier(n_estimators=200, criterion='gini', min_samples_split=5, min_samples_leaf=2, max_features='auto', bootstrap=True, n_jobs=-1, random_state=42)\n",
    "rfc.fit(features_train, domains_train)\n",
    "y_pred = rfc.predict(features_test)"
   ]
  },
  {
   "cell_type": "code",
   "execution_count": 16,
   "id": "d725e1ba-9c5e-47a6-aef3-1fa3019e08a1",
   "metadata": {},
   "outputs": [
    {
     "data": {
      "text/plain": [
       "0.94104"
      ]
     },
     "execution_count": 16,
     "metadata": {},
     "output_type": "execute_result"
    }
   ],
   "source": [
    "from sklearn.metrics import accuracy_score\n",
    "accuracy_score(domains_test, y_pred)"
   ]
  },
  {
   "cell_type": "markdown",
   "id": "5bcd962b-7b62-471e-914d-04d6b1d3f25a",
   "metadata": {},
   "source": [
    "### Good score! seems the parameters are tuned"
   ]
  },
  {
   "cell_type": "markdown",
   "id": "ef8aebd4-1719-4781-ab8f-21ee05354226",
   "metadata": {},
   "source": [
    "### Confusion Matrix"
   ]
  },
  {
   "cell_type": "code",
   "execution_count": 17,
   "id": "d2ab4362-8c19-4388-affa-6e44e900ed92",
   "metadata": {},
   "outputs": [
    {
     "data": {
      "image/png": "[encoded data removed]",
      "text/plain": [
       "<Figure size 720x720 with 2 Axes>"
      ]
     },
     "metadata": {
      "needs_background": "light"
     },
     "output_type": "display_data"
    }
   ],
   "source": [
    "plot_cm(domains_test, y_pred)"
   ]
  },
  {
   "cell_type": "markdown",
   "id": "f1044e28-5394-41f7-8d90-b6ca6bef44d2",
   "metadata": {},
   "source": [
    "### Splitting domains and training random forest models on each of them"
   ]
  },
  {
   "cell_type": "markdown",
   "id": "1599e7d0-8e2d-40df-9228-6d8ecb3ef027",
   "metadata": {},
   "source": [
    "### Domain = 0"
   ]
  },
  {
   "cell_type": "code",
   "execution_count": 25,
   "id": "77144a19-457f-4b3a-b7e8-6d3df4477372",
   "metadata": {},
   "outputs": [
    {
     "name": "stdout",
     "output_type": "stream",
     "text": [
      "0.9668639053254438\n"
     ]
    }
   ],
   "source": [
    "features_domain_0 = features_train[domains_train == 0]\n",
    "digits_domain_0 = digits_train[domains_train == 0]\n",
    "features_test_0 = features_test[y_pred == 0]\n",
    "digits_test_0 = digits_test[y_pred == 0]\n",
    "\n",
    "model0 = RandomForestClassifier(n_estimators=200, criterion='gini', min_samples_split=5, min_samples_leaf=2, max_features='auto', bootstrap=True, n_jobs=-1, random_state=42)\n",
    "model0.fit(features_domain_0, digits_domain_0)\n",
    "predictions_domain_0 = model0.predict(features_test_0)\n",
    "print(accuracy_score(digits_test_0, predictions_domain_0))"
   ]
  },
  {
   "cell_type": "markdown",
   "id": "09ac16d3-2472-4473-83cf-1acb84edea4f",
   "metadata": {},
   "source": [
    "### Domain = 1"
   ]
  },
  {
   "cell_type": "code",
   "execution_count": 26,
   "id": "6538ae29-f299-4c76-bbef-7fba1373bdf2",
   "metadata": {},
   "outputs": [
    {
     "name": "stdout",
     "output_type": "stream",
     "text": [
      "0.8373054953712823\n"
     ]
    }
   ],
   "source": [
    "features_domain_1 = features_train[domains_train == 1]\n",
    "digits_domain_1 = digits_train[domains_train == 1]\n",
    "features_test_1 = features_test[y_pred == 1]\n",
    "digits_test_1 = digits_test[y_pred == 1]\n",
    "\n",
    "model1 = RandomForestClassifier(n_estimators=200, criterion='gini', min_samples_split=5, min_samples_leaf=2, max_features='auto', bootstrap=True, n_jobs=-1, random_state=42)\n",
    "model1.fit(features_domain_1, digits_domain_1)\n",
    "predictions_domain_1 = model1.predict(features_test_1)\n",
    "print(accuracy_score(digits_test_1, predictions_domain_1))"
   ]
  },
  {
   "cell_type": "markdown",
   "id": "d974b243-be7a-4291-85b6-c1d48802a9a7",
   "metadata": {},
   "source": [
    "### Domain = 2"
   ]
  },
  {
   "cell_type": "code",
   "execution_count": 30,
   "id": "e1d2228b-2bde-4d42-981e-2b1ef9414f6a",
   "metadata": {},
   "outputs": [
    {
     "name": "stdout",
     "output_type": "stream",
     "text": [
      "0.746215844309023\n"
     ]
    }
   ],
   "source": [
    "features_domain_2 = features_train[domains_train == 2]\n",
    "digits_domain_2 = digits_train[domains_train == 2]\n",
    "features_test_2 = features_test[y_pred == 2]\n",
    "digits_test_2 = digits_test[y_pred == 2]\n",
    "\n",
    "model2 = RandomForestClassifier(n_estimators=200, criterion='gini', min_samples_split=5, min_samples_leaf=2, max_features='auto', bootstrap=True, n_jobs=-1, random_state=42)\n",
    "model2.fit(features_domain_2, digits_domain_2)\n",
    "predictions_domain_2 = model2.predict(features_test_2)\n",
    "print(accuracy_score(digits_test_2, predictions_domain_2))"
   ]
  },
  {
   "cell_type": "markdown",
   "id": "7e6f4493-e35f-4f12-bda0-04ce48673eb0",
   "metadata": {},
   "source": [
    "### Domain = 3"
   ]
  },
  {
   "cell_type": "code",
   "execution_count": 28,
   "id": "4faa430a-f3e5-429b-8db8-36d3fa227a8f",
   "metadata": {},
   "outputs": [
    {
     "name": "stdout",
     "output_type": "stream",
     "text": [
      "0.8567449263828094\n"
     ]
    }
   ],
   "source": [
    "features_domain_3 = features_train[domains_train == 3]\n",
    "digits_domain_3 = digits_train[domains_train == 3]\n",
    "features_test_3 = features_test[y_pred == 3]\n",
    "digits_test_3 = digits_test[y_pred == 3]\n",
    "\n",
    "model3 = RandomForestClassifier(n_estimators=200, criterion='gini', min_samples_split=5, min_samples_leaf=2, max_features='auto', bootstrap=True, n_jobs=-1, random_state=42)\n",
    "model3.fit(features_domain_3, digits_domain_3)\n",
    "predictions_domain_3 = model3.predict(features_test_3)\n",
    "print(accuracy_score(digits_test_3, predictions_domain_3))"
   ]
  },
  {
   "cell_type": "markdown",
   "id": "ebf71d85-0318-43e0-aec6-188ae166d1de",
   "metadata": {},
   "source": [
    "### Domain = 4"
   ]
  },
  {
   "cell_type": "code",
   "execution_count": 29,
   "id": "70d71c59-ecf1-4b34-8d8e-6a37d21dc5c4",
   "metadata": {},
   "outputs": [
    {
     "name": "stdout",
     "output_type": "stream",
     "text": [
      "0.9827004219409282\n"
     ]
    }
   ],
   "source": [
    "features_domain_4 = features_train[domains_train == 4]\n",
    "digits_domain_4 = digits_train[domains_train == 4]\n",
    "features_test_4 = features_test[y_pred == 4]\n",
    "digits_test_4 = digits_test[y_pred == 4]\n",
    "\n",
    "model4 = RandomForestClassifier(n_estimators=200, criterion='gini', min_samples_split=5, min_samples_leaf=2, max_features='auto', bootstrap=True, n_jobs=-1, random_state=42)\n",
    "model4.fit(features_domain_4, digits_domain_4)\n",
    "predictions_domain_4 = model4.predict(features_test_4)\n",
    "print(accuracy_score(digits_test_4, predictions_domain_4))"
   ]
  },
  {
   "cell_type": "markdown",
   "id": "c04ce789-7598-42c7-846d-1494d2c6501f",
   "metadata": {},
   "source": [
    "## Part3"
   ]
  },
  {
   "cell_type": "code",
   "execution_count": 19,
   "id": "66437111-d628-41c5-8d6f-4d4b9f9162b4",
   "metadata": {},
   "outputs": [
    {
     "data": {
      "image/png": "[encoded data removed]",
      "text/plain": [
       "<Figure size 720x720 with 2 Axes>"
      ]
     },
     "metadata": {
      "needs_background": "light"
     },
     "output_type": "display_data"
    }
   ],
   "source": [
    "plot_cm(domains_test, y_pred)"
   ]
  },
  {
   "cell_type": "code",
   "execution_count": 20,
   "id": "08241bb4-2e28-404f-9df7-622e031c0ddc",
   "metadata": {},
   "outputs": [
    {
     "data": {
      "text/plain": [
       "array([[4994,    4,    0,    2,    0],\n",
       "       [  44, 4694,  142,  120,    0],\n",
       "       [   0,   69, 4748,  183,    0],\n",
       "       [  51,  297,  237, 4368,   47],\n",
       "       [   1,    0,    0,  277, 4722]], dtype=int64)"
      ]
     },
     "execution_count": 20,
     "metadata": {},
     "output_type": "execute_result"
    }
   ],
   "source": [
    "confusion_matrix(domains_test, y_pred)"
   ]
  },
  {
   "cell_type": "markdown",
   "id": "9866abc0-1ca3-4a0f-a23a-438b26f8ab11",
   "metadata": {},
   "source": [
    "### This is a confusion matrix, which is commonly used to evaluate the performance of a classification model. The rows in the matrix represent the actual classes, while the columns represent the predicted classes.\n",
    "###    There are five possible classes, represented by the integers 0, 1, 2, 3, and 4.\n",
    "###    The diagonal elements represent the number of instances that were correctly classified for each class. For example, there were 4994 instances of class 0 that were correctly classified, 4694 instances of class 1 that were correctly classified, and so on.\n",
    "###    The off-diagonal elements represent the number of instances that were misclassified. For example, there were 44 instances of class 1 that were misclassified as class 0, 69 instances of class 2 that were misclassified as class 1, and so on.\n",
    "### Overall, this confusion matrix suggests that the model performs well, with most of the instances being correctly classified. but we want to check if we can improve it or not!"
   ]
  },
  {
   "cell_type": "code",
   "execution_count": 23,
   "id": "9edcbeaf-afe9-49b5-adf6-37d06b60626b",
   "metadata": {},
   "outputs": [
    {
     "name": "stdout",
     "output_type": "stream",
     "text": [
      "Recall scores: [0.9988 0.9388 0.9496 0.8736 0.9444]\n"
     ]
    }
   ],
   "source": [
    "from sklearn.metrics import confusion_matrix\n",
    "\n",
    "# Calculate the recall score for each digit\n",
    "cm = np.array([[4994,    4,    0,    2,    0],\n",
    "               [  44, 4694,  142,  120,    0],\n",
    "               [   0,   69, 4748,  183,    0],\n",
    "               [  51,  297,  237, 4368,   47],\n",
    "               [   1,    0,    0,  277, 4722]])\n",
    "\n",
    "recall_scores = np.diag(cm) / cm.sum(axis=1)\n",
    "print(\"Recall scores:\", recall_scores)"
   ]
  },
  {
   "cell_type": "markdown",
   "id": "ffd1af53-79e1-480b-8220-9f226f7b6246",
   "metadata": {},
   "source": [
    "### What we are gonna do here: Create a dictionary to store the accuracies for different models - Loop through each domain - Split the training data into domain i and other domains - Predict labels for other domains - Calculate the weight for each sample from other domains based on the confusion matrix - Concatenate the data from domain i and the weighted data from other domains based on confusion matrix - Train a new RandomForestClassifier model with the weighted concatenated data - Test the model on the test data from domain i - Print the accuracies for each domain"
   ]
  },
  {
   "cell_type": "code",
   "execution_count": 63,
   "id": "4214a358-5731-4dd3-b6e0-9aa8e404eec6",
   "metadata": {},
   "outputs": [
    {
     "name": "stdout",
     "output_type": "stream",
     "text": [
      "Domain 0: 0.9762\n",
      "Domain 1: 0.8454\n",
      "Domain 2: 0.7482\n",
      "Domain 3: 0.7916\n",
      "Domain 4: 0.9888\n"
     ]
    }
   ],
   "source": [
    "accuracies = {}\n",
    "\n",
    "for i in range(5):\n",
    "    features_domain_i = features_train[domains_train == i]\n",
    "    digits_domain_i = digits_train[domains_train == i]\n",
    "    features_other_domains = features_train[domains_train != i]\n",
    "    digits_other_domains = digits_train[domains_train != i]\n",
    "    \n",
    "    features_other_pred = features_train[domains_train != i]\n",
    "    digits_other_pred = model.predict(features_other_pred)\n",
    "    \n",
    "    weights = np.zeros(len(digits_other_domains))\n",
    "    for j in range(10):\n",
    "        confusion_ij = confusion_matrix(digits_other_domains, digits_other_pred)[j][i]\n",
    "        weights[digits_other_domains == j] = 1 / (1 + confusion_ij)\n",
    "    \n",
    "    features_new_train = np.concatenate((features_domain_i, features_other_domains), axis=0)\n",
    "    digits_new_train = np.concatenate((digits_domain_i, digits_other_domains), axis=0)\n",
    "    weights_new_train = np.concatenate((np.ones(len(digits_domain_i)), weights))\n",
    "    \n",
    "    model = RandomForestClassifier(n_estimators=200, criterion='gini', min_samples_split=5, min_samples_leaf=2, max_features='auto', bootstrap=True, n_jobs=-1, random_state=42, class_weight='balanced_subsample')\n",
    "    model.fit(features_new_train,digits_new_train, sample_weight=weights_new_train)\n",
    "    \n",
    "    features_test_i = features_test[domains_test == i]\n",
    "    digits_test_i = digits_test[domains_test == i]\n",
    "    predictions_domain_i = model.predict(features_test_i)\n",
    "    accuracy_domain_i = accuracy_score(digits_test_i, predictions_domain_i)\n",
    "    accuracies[f\"Domain {i}\"] = accuracy_domain_i\n",
    "\n",
    "for domain, accuracy in accuracies.items():\n",
    "    print(f\"{domain}: {accuracy}\")\n"
   ]
  },
  {
   "cell_type": "markdown",
   "id": "1ddeb2bc-f79a-4601-9167-e19488cf7c22",
   "metadata": {},
   "source": [
    "### By adding data from other domains based on the confusion matrix and weighting them, we see that improvements have been made in the scores of 4 domains and only one domain's score has decreased."
   ]
  },
  {
   "cell_type": "code",
   "execution_count": 84,
   "id": "73929db3-00ea-4450-905a-f0d62abb4f29",
   "metadata": {},
   "outputs": [
    {
     "name": "stdout",
     "output_type": "stream",
     "text": [
      "Domain 0: 0.9764\n",
      "Best weights: [1. 1. 1. ... 1. 1. 1.]\n",
      "Domain 1: 0.8456\n",
      "Best weights: [1. 1. 1. ... 1. 1. 1.]\n",
      "Domain 2: 0.7516\n",
      "Best weights: [1. 1. 1. ... 1. 1. 1.]\n",
      "Domain 3: 0.7924\n",
      "Best weights: [1. 1. 1. ... 1. 1. 1.]\n",
      "Domain 4: 0.9888\n",
      "Best weights: [1. 1. 1. ... 1. 1. 1.]\n"
     ]
    }
   ],
   "source": [
    "accuracies = {}\n",
    "\n",
    "for i in range(5):\n",
    "    \n",
    "    features_domain_i = features_train[domains_train == i]\n",
    "    digits_domain_i = digits_train[domains_train == i]\n",
    "    features_other_domains = features_train[domains_train != i]\n",
    "    digits_other_domains = digits_train[domains_train != i]\n",
    "    \n",
    "    model = RandomForestClassifier(n_estimators=200, criterion='gini', min_samples_split=5, min_samples_leaf=2, max_features='auto', bootstrap=True, n_jobs=-1, random_state=42, class_weight='balanced_subsample')\n",
    "    model.fit(np.concatenate((features_domain_i, features_other_domains)), np.concatenate((digits_domain_i, digits_other_domains)))\n",
    "    \n",
    "    features_other_pred = features_train[domains_train != i]\n",
    "    digits_other_pred = model.predict(features_other_pred)\n",
    "    \n",
    "    weights_list = [0.1, 0.5, 1, 2, 5, 10]\n",
    "    best_accuracy = 0\n",
    "    for weight in weights_list:\n",
    "        weights = np.zeros(len(digits_other_domains))\n",
    "        for j in range(10):\n",
    "            confusion_ij = confusion_matrix(digits_other_domains, digits_other_pred)[j][i]\n",
    "            weights[digits_other_domains == j] = 1 / (1 + weight * confusion_ij)\n",
    "\n",
    "        features_new_train = np.concatenate((features_domain_i, features_other_domains), axis=0)\n",
    "        digits_new_train = np.concatenate((digits_domain_i, digits_other_domains), axis=0)\n",
    "        weights_new_train = np.concatenate((np.ones(len(digits_domain_i)), weights))\n",
    "\n",
    "        model = RandomForestClassifier(n_estimators=200, criterion='gini', min_samples_split=5, min_samples_leaf=2, max_features='auto', bootstrap=True, n_jobs=-1, random_state=42, class_weight='balanced_subsample')\n",
    "        model.fit(features_new_train,digits_new_train, sample_weight=weights_new_train)\n",
    "\n",
    "        features_test_i = features_test[domains_test == i]\n",
    "        digits_test_i = digits_test[domains_test == i]\n",
    "        predictions_domain_i = model.predict(features_test_i)\n",
    "        accuracy_domain_i = accuracy_score(digits_test_i, predictions_domain_i)\n",
    "\n",
    "        if accuracy_domain_i > best_accuracy:\n",
    "            best_accuracy = accuracy_domain_i\n",
    "            accuracies[f\"Domain {i}\"] = best_accuracy\n",
    "            best_weights = weights\n",
    "                \n",
    "for domain, accuracy in accuracies.items():\n",
    "    print(f\"{domain}: {accuracy}\")\n",
    "    print(f\"Best weights: {best_weights}\")\n"
   ]
  },
  {
   "cell_type": "markdown",
   "id": "2de2750a-6840-4489-a363-46b10541e854",
   "metadata": {
    "tags": []
   },
   "source": [
    "### Finally, by applying the steps of the previous part and with only one difference, which was changing the weights during training the models and comparing them, we can see that by changing the weights, improvements have been achieved in the results."
   ]
  },
  {
   "cell_type": "markdown",
   "id": "d4cee6d5-de49-41a4-afef-3b15fe71e264",
   "metadata": {},
   "source": [
    "### Now, by comparing these scores with the previous scores, we can easily find out the process of changes and improvements in the results"
   ]
  }
 ],
 "metadata": {
  "kernelspec": {
   "display_name": "Python 3 (ipykernel)",
   "language": "python",
   "name": "python3"
  },
  "language_info": {
   "codemirror_mode": {
    "name": "ipython",
    "version": 3
   },
   "file_extension": ".py",
   "mimetype": "text/x-python",
   "name": "python",
   "nbconvert_exporter": "python",
   "pygments_lexer": "ipython3",
   "version": "3.8.0"
  }
 },
 "nbformat": 4,
 "nbformat_minor": 5
}
