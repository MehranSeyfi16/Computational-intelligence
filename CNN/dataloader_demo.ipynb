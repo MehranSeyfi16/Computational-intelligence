{
 "cells": [
  {
   "cell_type": "markdown",
   "metadata": {
    "id": "xBCMb9mDPzGg"
   },
   "source": [
    "Mount Google Drive:"
   ]
  },
  {
   "cell_type": "code",
   "execution_count": 1,
   "metadata": {
    "colab": {
     "base_uri": "https://localhost:8080/"
    },
    "executionInfo": {
     "elapsed": 3905,
     "status": "ok",
     "timestamp": 1686986995856,
     "user": {
      "displayName": "Hamed Mohammadzadeh",
      "userId": "05037303877992897008"
     },
     "user_tz": -210
    },
    "id": "6MEdYlfamA2x",
    "outputId": "4f492cfb-d99d-4671-9bb5-fdde8b357318"
   },
   "outputs": [
    {
     "name": "stdout",
     "output_type": "stream",
     "text": [
      "Drive already mounted at /content/drive; to attempt to forcibly remount, call drive.mount(\"/content/drive\", force_remount=True).\n"
     ]
    }
   ],
   "source": [
    "from google.colab import drive\n",
    "drive.mount('/content/drive')"
   ]
  },
  {
   "cell_type": "markdown",
   "metadata": {
    "id": "1JUYG4kIP39q"
   },
   "source": [
    "Change directory to the project folder:"
   ]
  },
  {
   "cell_type": "code",
   "execution_count": 7,
   "metadata": {
    "colab": {
     "base_uri": "https://localhost:8080/"
    },
    "executionInfo": {
     "elapsed": 3,
     "status": "ok",
     "timestamp": 1686987088410,
     "user": {
      "displayName": "Hamed Mohammadzadeh",
      "userId": "05037303877992897008"
     },
     "user_tz": -210
    },
    "id": "MnxRyXLomHa9",
    "outputId": "d3dbaf49-2243-46a0-8f5d-2ee8d87326ee"
   },
   "outputs": [
    {
     "name": "stdout",
     "output_type": "stream",
     "text": [
      "/content/drive/.shortcut-targets-by-id/1exPdvEPc0bY2bSmEUBsKg5fzhOH39uXh/D5/phase4 public\n"
     ]
    }
   ],
   "source": [
    "%cd '/content/drive/MyDrive/Colab Notebooks/D5/phase4 public'"
   ]
  },
  {
   "cell_type": "code",
   "execution_count": 8,
   "metadata": {
    "colab": {
     "base_uri": "https://localhost:8080/"
    },
    "executionInfo": {
     "elapsed": 577,
     "status": "ok",
     "timestamp": 1686987092142,
     "user": {
      "displayName": "Hamed Mohammadzadeh",
      "userId": "05037303877992897008"
     },
     "user_tz": -210
    },
    "id": "m9No5l_9mJp2",
    "outputId": "21e026c8-27d9-43b6-865f-e32c01371f89"
   },
   "outputs": [
    {
     "name": "stdout",
     "output_type": "stream",
     "text": [
      "'CI - Spring_2023  - phase4.pdf'   exploring_data.py   utils.py\n",
      " data\t\t\t\t   __pycache__\n",
      " dataloader_demo.ipynb\t\t   triplet_loss.py\n"
     ]
    }
   ],
   "source": [
    "!ls"
   ]
  },
  {
   "cell_type": "code",
   "execution_count": 1,
   "metadata": {
    "executionInfo": {
     "elapsed": 7027,
     "status": "ok",
     "timestamp": 1686986815381,
     "user": {
      "displayName": "Hamed Mohammadzadeh",
      "userId": "05037303877992897008"
     },
     "user_tz": -210
    },
    "id": "P3ACDvvHmOXe"
   },
   "outputs": [],
   "source": [
    "from utils import get_data_loaders\n",
    "import torch\n",
    "\n",
    "def loaders_demo():\n",
    "    full_dataloaders, _ = get_data_loaders(\n",
    "        filenames={\n",
    "            'train': '12000_train_mnistmnistmsvhnsynusps.npz',\n",
    "            'test': '12000_test_mnistmnistmsvhnsynusps.npz',\n",
    "        },\n",
    "        batch_size= 64\n",
    "    )\n",
    "    print(full_dataloaders.keys())\n",
    "\n",
    "    for phase in ['train', 'test', 'test_missing']:\n",
    "        print(f'{phase} data size: ', full_dataloaders[f'{phase}_size'])\n",
    "        for batch_indx, (images, features, domain_labels, digit_labels) in enumerate(full_dataloaders[phase]):\n",
    "            print(f'{batch_indx}-th batch')\n",
    "            print('images shape: ', images.shape)\n",
    "            print('features shape: ', features.shape)\n",
    "            if phase == 'test_missing':\n",
    "                print('in test-missing dataloaders, since the features are not available, features are filled with zeros', torch.sum(features))\n",
    "            print('domain labels freq: ', torch.unique(domain_labels, return_counts=True))\n",
    "            print('digit labels freq: ', torch.unique(digit_labels, return_counts=True))\n",
    "            print()\n",
    "            break"
   ]
  },
  {
   "cell_type": "code",
   "execution_count": null,
   "metadata": {},
   "outputs": [],
   "source": []
  },
  {
   "cell_type": "code",
   "execution_count": 2,
   "metadata": {
    "colab": {
     "base_uri": "https://localhost:8080/"
    },
    "executionInfo": {
     "elapsed": 12913,
     "status": "ok",
     "timestamp": 1686986832477,
     "user": {
      "displayName": "Hamed Mohammadzadeh",
      "userId": "05037303877992897008"
     },
     "user_tz": -210
    },
    "id": "7ZJav-wAmqFh",
    "outputId": "d20ac648-a363-4355-af18-1d9720af80f8"
   },
   "outputs": [
    {
     "name": "stdout",
     "output_type": "stream",
     "text": [
      "datafiles to read:  {'train': '12000_train_mnistmnistmsvhnsynusps.npz', 'test': '12000_test_mnistmnistmsvhnsynusps.npz'}\n",
      "reading 12000_train_mnistmnistmsvhnsynusps.npz, number of samples: 60000\n",
      "reading 12000_test_mnistmnistmsvhnsynusps.npz, number of samples: 21600\n",
      "reading 12000_test_mnistmnistmsvhnsynusps.npz, number of samples: 21600\n",
      "dict_keys(['train', 'test', 'test_missing', 'train_size', 'test_size', 'test_missing_size'])\n",
      "train data size:  60000\n",
      "0-th batch\n",
      "images shape:  torch.Size([64, 3, 32, 32])\n",
      "features shape:  torch.Size([64, 256])\n",
      "domain labels freq:  (tensor([0, 1, 2, 3, 4]), tensor([10, 13, 11, 18, 12]))\n",
      "digit labels freq:  (tensor([0, 1, 2, 3, 4, 5, 6, 7, 8, 9]), tensor([ 6,  5,  8,  5,  6,  9, 10,  7,  5,  3]))\n",
      "\n",
      "test data size:  21600\n",
      "0-th batch\n",
      "images shape:  torch.Size([64, 3, 32, 32])\n",
      "features shape:  torch.Size([64, 256])\n",
      "domain labels freq:  (tensor([0, 1, 2, 3, 4]), tensor([ 9,  9, 17, 15, 14]))\n",
      "digit labels freq:  (tensor([0, 1, 2, 3, 4, 5, 6, 7, 8, 9]), tensor([ 5, 12,  6,  2,  2,  8,  6,  5,  9,  9]))\n",
      "\n",
      "test_missing data size:  21600\n",
      "0-th batch\n",
      "images shape:  torch.Size([64, 3, 32, 32])\n",
      "features shape:  torch.Size([64, 256])\n",
      "in test-missing dataloaders, since the features are not available, features are filled with zeros tensor(0.)\n",
      "domain labels freq:  (tensor([0, 1, 2, 3, 4]), tensor([17,  8, 12, 13, 14]))\n",
      "digit labels freq:  (tensor([0, 1, 2, 3, 4, 5, 6, 7, 8, 9]), tensor([ 4,  8,  8,  3,  9, 12,  7,  4,  5,  4]))\n",
      "\n"
     ]
    }
   ],
   "source": [
    "loaders_demo()"
   ]
  },
  {
   "cell_type": "code",
   "execution_count": null,
   "metadata": {
    "id": "bivQ139hQALx"
   },
   "outputs": [],
   "source": []
  }
 ],
 "metadata": {
  "colab": {
   "authorship_tag": "ABX9TyOGBhQNiU+f3ZA4ZR4/HsN4",
   "provenance": []
  },
  "kernelspec": {
   "display_name": "Python 3 (ipykernel)",
   "language": "python",
   "name": "python3"
  },
  "language_info": {
   "codemirror_mode": {
    "name": "ipython",
    "version": 3
   },
   "file_extension": ".py",
   "mimetype": "text/x-python",
   "name": "python",
   "nbconvert_exporter": "python",
   "pygments_lexer": "ipython3",
   "version": "3.8.0"
  }
 },
 "nbformat": 4,
 "nbformat_minor": 4
}
